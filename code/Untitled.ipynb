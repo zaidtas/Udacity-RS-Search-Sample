{
 "cells": [
  {
   "cell_type": "markdown",
   "metadata": {},
   "source": [
    "## Project: Search and Sample Return\n",
    "---\n",
    "\n",
    "\n",
    "**The goals / steps of this project are the following:**  \n",
    "\n",
    "**Training / Calibration**  \n",
    "\n",
    "* Download the simulator and take data in \"Training Mode\"\n",
    "* Test out the functions in the Jupyter Notebook provided\n",
    "* Add functions to detect obstacles and samples of interest (golden rocks)\n",
    "* Fill in the `process_image()` function with the appropriate image processing steps (perspective transform, color threshold etc.) to get from raw images to a map.  The `output_image` you create in this step should demonstrate that your mapping pipeline works.\n",
    "* Use `moviepy` to process the images in your saved dataset with the `process_image()` function.  Include the video you produce as part of your submission.\n",
    "\n",
    "**Autonomous Navigation / Mapping**\n",
    "\n",
    "* Fill in the `perception_step()` function within the `perception.py` script with the appropriate image processing functions to create a map and update `Rover()` data (similar to what you did with `process_image()` in the notebook). \n",
    "* Fill in the `decision_step()` function within the `decision.py` script with conditional statements that take into consideration the outputs of the `perception_step()` in deciding how to issue throttle, brake and steering commands. \n",
    "* Iterate on your perception and decision function until your rover does a reasonable (need to define metric) job of navigating and mapping.  \n",
    "\n",
    "[//]: # (Image References)\n",
    "\n",
    "[image1]: ./misc/rover_image.jpg\n",
    "[image2]: ./calibration_images/example_grid1.jpg\n",
    "[image3]: ./calibration_images/example_rock1.jpg \n",
    "\n",
    "## [Rubric](https://review.udacity.com/#!/rubrics/916/view) Points\n",
    "### Here I will consider the rubric points individually and describe how I addressed each point in my implementation.  \n",
    "\n",
    "---\n",
    "### Writeup / README\n",
    "\n",
    "#### 1. Provide a Writeup / README that includes all the rubric points and how you addressed each one.  You can submit your writeup as markdown or pdf.  \n",
    "\n",
    "You're reading it!\n",
    "\n",
    "### Notebook Analysis\n",
    "#### 1. Run the functions provided in the notebook on test images (first with the test data provided, next on data you have recorded). Add/modify functions to allow for color selection of obstacles and rock samples.\n",
    "Here is an example of how to include an image in your writeup.\n",
    "\n",
    "![alt text][image1]\n",
    "\n",
    "#### 1. Populate the `process_image()` function with the appropriate analysis steps to map pixels identifying navigable terrain, obstacles and rock samples into a worldmap.  Run `process_image()` on your test data using the `moviepy` functions provided to create video output of your result. \n",
    "And another! \n",
    "\n",
    "![alt text][image2]\n",
    "### Autonomous Navigation and Mapping\n",
    "\n",
    "#### 1. Fill in the `perception_step()` (at the bottom of the `perception.py` script) and `decision_step()` (in `decision.py`) functions in the autonomous mapping scripts and an explanation is provided in the writeup of how and why these functions were modified as they were.\n",
    "\n",
    "\n",
    "#### 2. Launching in autonomous mode your rover can navigate and map autonomously.  Explain your results and how you might improve them in your writeup.  \n",
    "\n",
    "**Note: running the simulator with different choices of resolution and graphics quality may produce different results, particularly on different machines!  Make a note of your simulator settings (resolution and graphics quality set on launch) and frames per second (FPS output to terminal by `drive_rover.py`) in your writeup when you submit the project so your reviewer can reproduce your results.**\n",
    "\n",
    "Here I'll talk about the approach I took, what techniques I used, what worked and why, where the pipeline might fail and how I might improve it if I were going to pursue this project further.  \n",
    "\n",
    "\n",
    "\n",
    "![alt text][image3]\n",
    "\n",
    "\n"
   ]
  }
 ],
 "metadata": {
  "kernelspec": {
   "display_name": "Python [conda env:RoboND]",
   "language": "python",
   "name": "conda-env-RoboND-py"
  },
  "language_info": {
   "codemirror_mode": {
    "name": "ipython",
    "version": 3
   },
   "file_extension": ".py",
   "mimetype": "text/x-python",
   "name": "python",
   "nbconvert_exporter": "python",
   "pygments_lexer": "ipython3",
   "version": "3.5.2"
  },
  "widgets": {
   "state": {},
   "version": "1.1.2"
  }
 },
 "nbformat": 4,
 "nbformat_minor": 2
}
